{
 "cells": [
  {
   "cell_type": "code",
   "execution_count": 2,
   "metadata": {},
   "outputs": [
    {
     "name": "stdout",
     "output_type": "stream",
     "text": [
      "Datasets have been split and saved successfully.\n"
     ]
    }
   ],
   "source": [
    "import os\n",
    "import pandas as pd\n",
    "from sklearn.model_selection import train_test_split\n",
    "\n",
    "# Load the dataset\n",
    "dataset = pd.read_csv(r'C:\\Users\\parvs\\VSC Codes\\Python-root\\_Projects_Personal\\mindEase_v2\\datasets\\Conversational Training\\Intent Based\\Small_talk_Intent.csv')\n",
    "\n",
    "# Split the dataset into training and temporary datasets\n",
    "train_data, temp_data = train_test_split(dataset, test_size=0.4, random_state=42)\n",
    "\n",
    "# Split the temporary dataset into validation and test datasets\n",
    "val_data, test_data = train_test_split(temp_data, test_size=0.5, random_state=42)\n",
    "\n",
    "# Save the datasets to separate files\n",
    "save_loc = r'C:\\Users\\parvs\\VSC Codes\\Python-root\\_Projects_Personal\\mindEase_v2\\datasets\\Conversational Training\\Intent Based\\difDs'\n",
    "train_data.to_csv(os.path.join(save_loc, 'train.csv'), index=False)\n",
    "val_data.to_csv(os.path.join(save_loc, 'val.csv'), index=False)\n",
    "test_data.to_csv(os.path.join(save_loc, 'test.csv'), index=False)\n",
    "\n",
    "print(\"Datasets have been split and saved successfully.\")"
   ]
  }
 ],
 "metadata": {
  "kernelspec": {
   "display_name": "Python 3",
   "language": "python",
   "name": "python3"
  },
  "language_info": {
   "codemirror_mode": {
    "name": "ipython",
    "version": 3
   },
   "file_extension": ".py",
   "mimetype": "text/x-python",
   "name": "python",
   "nbconvert_exporter": "python",
   "pygments_lexer": "ipython3",
   "version": "3.10.11"
  }
 },
 "nbformat": 4,
 "nbformat_minor": 2
}
