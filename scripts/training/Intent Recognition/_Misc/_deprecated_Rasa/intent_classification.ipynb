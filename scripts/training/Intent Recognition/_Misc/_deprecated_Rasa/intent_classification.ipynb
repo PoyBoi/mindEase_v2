{
 "cells": [
  {
   "cell_type": "code",
   "execution_count": 1,
   "metadata": {},
   "outputs": [],
   "source": [
    "import logging, io, json, warnings\n",
    "\n",
    "logging.basicConfig(level=\"INFO\")\n",
    "warnings.filterwarnings('ignore')"
   ]
  },
  {
   "cell_type": "code",
   "execution_count": 2,
   "metadata": {},
   "outputs": [
    {
     "name": "stderr",
     "output_type": "stream",
     "text": [
      "INFO:apscheduler.scheduler:Scheduler started\n"
     ]
    }
   ],
   "source": [
    "# Load the packages without using fallbackpolicy\n",
    "from rasa_core.policies.keras_policy import KerasPolicy\n",
    "from rasa_core.agent import Agent"
   ]
  },
  {
   "cell_type": "code",
   "execution_count": 4,
   "metadata": {},
   "outputs": [],
   "source": [
    "from tensorflow.python.keras.backend import get_session"
   ]
  },
  {
   "cell_type": "code",
   "execution_count": 5,
   "metadata": {},
   "outputs": [
    {
     "ename": "AttributeError",
     "evalue": "module 'keras.backend' has no attribute '_BACKEND'",
     "output_type": "error",
     "traceback": [
      "\u001b[1;31m---------------------------------------------------------------------------\u001b[0m",
      "\u001b[1;31mAttributeError\u001b[0m                            Traceback (most recent call last)",
      "Cell \u001b[1;32mIn [5], line 2\u001b[0m\n\u001b[0;32m      1\u001b[0m \u001b[38;5;66;03m# Set the Agent\u001b[39;00m\n\u001b[1;32m----> 2\u001b[0m agent \u001b[38;5;241m=\u001b[39m Agent(\u001b[38;5;124mr\u001b[39m\u001b[38;5;124m'\u001b[39m\u001b[38;5;124mC:\u001b[39m\u001b[38;5;124m\\\u001b[39m\u001b[38;5;124mUsers\u001b[39m\u001b[38;5;124m\\\u001b[39m\u001b[38;5;124mparvs\u001b[39m\u001b[38;5;124m\\\u001b[39m\u001b[38;5;124mVSC Codes\u001b[39m\u001b[38;5;124m\\\u001b[39m\u001b[38;5;124mPython-root\u001b[39m\u001b[38;5;124m\\\u001b[39m\u001b[38;5;124m_Projects_Personal\u001b[39m\u001b[38;5;124m\\\u001b[39m\u001b[38;5;124mmindEase_v2\u001b[39m\u001b[38;5;124m\\\u001b[39m\u001b[38;5;124mdatasets\u001b[39m\u001b[38;5;124m\\\u001b[39m\u001b[38;5;124mConversational Training\u001b[39m\u001b[38;5;124m\\\u001b[39m\u001b[38;5;124mIntent Based\u001b[39m\u001b[38;5;124m\\\u001b[39m\u001b[38;5;124mBasic_IR.json\u001b[39m\u001b[38;5;124m'\u001b[39m, policies\u001b[38;5;241m=\u001b[39m[\u001b[43mKerasPolicy\u001b[49m\u001b[43m(\u001b[49m\u001b[43m)\u001b[49m])\n",
      "File \u001b[1;32mc:\\Users\\parvs\\AppData\\Local\\Programs\\Python\\Python310\\lib\\site-packages\\rasa_core\\policies\\keras_policy.py:31\u001b[0m, in \u001b[0;36mKerasPolicy.__init__\u001b[1;34m(self, model, graph, current_epoch, featurizer, max_history)\u001b[0m\n\u001b[0;32m     28\u001b[0m \u001b[38;5;28;01mimport\u001b[39;00m \u001b[38;5;21;01mkeras\u001b[39;00m\n\u001b[0;32m     30\u001b[0m \u001b[38;5;28msuper\u001b[39m(KerasPolicy, \u001b[38;5;28mself\u001b[39m)\u001b[38;5;241m.\u001b[39m\u001b[38;5;21m__init__\u001b[39m(featurizer, max_history)\n\u001b[1;32m---> 31\u001b[0m \u001b[38;5;28;01mif\u001b[39;00m \u001b[43mKerasPolicy\u001b[49m\u001b[38;5;241;43m.\u001b[39;49m\u001b[43mis_using_tensorflow\u001b[49m\u001b[43m(\u001b[49m\u001b[43m)\u001b[49m \u001b[38;5;129;01mand\u001b[39;00m \u001b[38;5;129;01mnot\u001b[39;00m graph:\n\u001b[0;32m     32\u001b[0m     \u001b[38;5;28mself\u001b[39m\u001b[38;5;241m.\u001b[39mgraph \u001b[38;5;241m=\u001b[39m keras\u001b[38;5;241m.\u001b[39mbackend\u001b[38;5;241m.\u001b[39mtf\u001b[38;5;241m.\u001b[39mget_default_graph()\n\u001b[0;32m     33\u001b[0m \u001b[38;5;28;01melse\u001b[39;00m:\n",
      "File \u001b[1;32mc:\\Users\\parvs\\AppData\\Local\\Programs\\Python\\Python310\\lib\\site-packages\\rasa_core\\policies\\keras_policy.py:48\u001b[0m, in \u001b[0;36mKerasPolicy.is_using_tensorflow\u001b[1;34m()\u001b[0m\n\u001b[0;32m     45\u001b[0m \u001b[38;5;129m@staticmethod\u001b[39m\n\u001b[0;32m     46\u001b[0m \u001b[38;5;28;01mdef\u001b[39;00m \u001b[38;5;21mis_using_tensorflow\u001b[39m():\n\u001b[0;32m     47\u001b[0m     \u001b[38;5;28;01mimport\u001b[39;00m \u001b[38;5;21;01mkeras\u001b[39;00m\n\u001b[1;32m---> 48\u001b[0m     \u001b[38;5;28;01mreturn\u001b[39;00m \u001b[43mkeras\u001b[49m\u001b[38;5;241;43m.\u001b[39;49m\u001b[43mbackend\u001b[49m\u001b[38;5;241;43m.\u001b[39;49m\u001b[43m_BACKEND\u001b[49m \u001b[38;5;241m==\u001b[39m \u001b[38;5;124m\"\u001b[39m\u001b[38;5;124mtensorflow\u001b[39m\u001b[38;5;124m\"\u001b[39m\n",
      "\u001b[1;31mAttributeError\u001b[0m: module 'keras.backend' has no attribute '_BACKEND'"
     ]
    }
   ],
   "source": [
    "# Set the Agent\n",
    "agent = Agent(r'C:\\Users\\parvs\\VSC Codes\\Python-root\\_Projects_Personal\\mindEase_v2\\datasets\\Conversational Training\\Intent Based\\Basic_IR.json', policies=[KerasPolicy()])"
   ]
  }
 ],
 "metadata": {
  "kernelspec": {
   "display_name": "Python 3",
   "language": "python",
   "name": "python3"
  },
  "language_info": {
   "codemirror_mode": {
    "name": "ipython",
    "version": 3
   },
   "file_extension": ".py",
   "mimetype": "text/x-python",
   "name": "python",
   "nbconvert_exporter": "python",
   "pygments_lexer": "ipython3",
   "version": "3.10.11"
  }
 },
 "nbformat": 4,
 "nbformat_minor": 2
}
