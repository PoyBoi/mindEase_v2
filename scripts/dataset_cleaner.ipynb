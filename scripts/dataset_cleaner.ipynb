{
 "cells": [
  {
   "cell_type": "code",
   "execution_count": 1,
   "metadata": {},
   "outputs": [],
   "source": [
    "import os\n",
    "import pandas as pd"
   ]
  },
  {
   "cell_type": "code",
   "execution_count": 4,
   "metadata": {},
   "outputs": [
    {
     "name": "stdout",
     "output_type": "stream",
     "text": [
      "../datasets/Conversational Training/Conversation_Intents.json ../datasets/Conversational Training/Mental_Health_Conversational.csv\n"
     ]
    }
   ],
   "source": [
    "conv_train = r\"../datasets/Conversational Training/\"\n",
    "health_monitor = r\"../datasets/Health Monitoring/\"\n",
    "mh_predict = r\"../datasets/Mental Health Prediction/\"\n",
    "\n",
    "loc_1, loc_2 = os.path.join(conv_train, os.listdir(conv_train)[0]), os.path.join(conv_train, os.listdir(conv_train)[1])\n",
    "\n",
    "print(loc_1, loc_2)"
   ]
  },
  {
   "cell_type": "code",
   "execution_count": 5,
   "metadata": {},
   "outputs": [
    {
     "name": "stdout",
     "output_type": "stream",
     "text": [
      "Cleaned data written to 'output.csv'\n"
     ]
    }
   ],
   "source": [
    "import re, csv\n",
    "\n",
    "def remove_special_characters(text):\n",
    "  cleaned_text = re.sub(r'[^a-zA-Z0-9\\s.,!?;:\\'\"-]+', '', text)\n",
    "  return cleaned_text\n",
    "\n",
    "input_file = loc_2\n",
    "output_file = \"output.csv\"\n",
    "with open(input_file, 'r', encoding='utf-8') as infile, \\\n",
    "     open(output_file, 'w', newline='', encoding='utf-8') as outfile:\n",
    "\n",
    "    reader = csv.reader(infile)\n",
    "    writer = csv.writer(outfile)\n",
    "    for row in reader:\n",
    "        cleaned_row = []\n",
    "        for cell in row:\n",
    "            cleaned_cell = remove_special_characters(cell)\n",
    "            cleaned_row.append(cleaned_cell)\n",
    "        writer.writerow(cleaned_row)\n",
    "\n",
    "print(f\"Cleaned data written to '{output_file}'\")"
   ]
  }
 ],
 "metadata": {
  "kernelspec": {
   "display_name": "Python 3",
   "language": "python",
   "name": "python3"
  },
  "language_info": {
   "codemirror_mode": {
    "name": "ipython",
    "version": 3
   },
   "file_extension": ".py",
   "mimetype": "text/x-python",
   "name": "python",
   "nbconvert_exporter": "python",
   "pygments_lexer": "ipython3",
   "version": "3.10.11"
  }
 },
 "nbformat": 4,
 "nbformat_minor": 2
}
